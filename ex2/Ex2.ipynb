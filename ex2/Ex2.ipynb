{
 "cells": [
  {
   "cell_type": "markdown",
   "metadata": {},
   "source": [
    "# Logistic Regression\n",
    "\n",
    "## 1. Logistic Regression\n",
    "\n",
    "[numpy.loadtxt](https://docs.scipy.org/doc/numpy/reference/generated/numpy.loadtxt.html#numpy-loadtxt)\n",
    "\n",
    "[numpy.transpose](https://docs.scipy.org/doc/numpy/reference/generated/numpy.transpose.html#numpy-transpose)"
   ]
  },
  {
   "cell_type": "code",
   "execution_count": 1,
   "metadata": {
    "collapsed": true
   },
   "outputs": [],
   "source": [
    "%matplotlib inline\n",
    "import numpy\n",
    "import matplotlib.pyplot as plt"
   ]
  },
  {
   "cell_type": "code",
   "execution_count": 2,
   "metadata": {
    "collapsed": true
   },
   "outputs": [],
   "source": [
    "x1, x2, y = numpy.loadtxt('ex2data1.txt',delimiter=',',unpack=True)\n",
    "x = numpy.transpose(numpy.array([x1,x2]))\n",
    "y = numpy.transpose(numpy.array([y]))"
   ]
  },
  {
   "cell_type": "markdown",
   "metadata": {},
   "source": [
    "### Plot the data"
   ]
  },
  {
   "cell_type": "code",
   "execution_count": 3,
   "metadata": {
    "collapsed": true
   },
   "outputs": [],
   "source": [
    "admitted = []\n",
    "unadmitted = []\n",
    "for i in range(y.size):\n",
    "    if y[i] == 1:\n",
    "        admitted.append(x[i])\n",
    "    else:\n",
    "        unadmitted.append(x[i])\n",
    "admitted = numpy.array(admitted)\n",
    "unadmitted = numpy.array(unadmitted)"
   ]
  },
  {
   "cell_type": "code",
   "execution_count": 4,
   "metadata": {},
   "outputs": [
    {
     "data": {
      "text/plain": [
       "<matplotlib.legend.Legend at 0x8e2c048>"
      ]
     },
     "execution_count": 4,
     "metadata": {},
     "output_type": "execute_result"
    },
    {
     "data": {
      "image/png": "[encoded data removed]",
      "text/plain": [
       "<matplotlib.figure.Figure at 0x8c78a90>"
      ]
     },
     "metadata": {},
     "output_type": "display_data"
    }
   ],
   "source": [
    "plt.figure()\n",
    "plt.plot(admitted[:,0],admitted[:,1],'bo',label='Admitted')\n",
    "plt.plot(unadmitted[:,0],unadmitted[:,1],'rx',label='Unadmitted')\n",
    "plt.xlabel('Exam 1 score')\n",
    "plt.ylabel('Exam 2 score')\n",
    "plt.legend()"
   ]
  },
  {
   "cell_type": "markdown",
   "metadata": {},
   "source": [
    "### Implement Logistic Regression\n",
    "\n",
    "#### Sigmoid Function\n",
    "\n",
    "[Sigmoid Function(Wikipedia)](https://en.wikipedia.org/wiki/Sigmoid_function)"
   ]
  },
  {
   "cell_type": "code",
   "execution_count": 5,
   "metadata": {
    "collapsed": true
   },
   "outputs": [],
   "source": [
    "def sigmoid_function(x): \n",
    "    return 1/(1 + numpy.exp(-x))"
   ]
  },
  {
   "cell_type": "markdown",
   "metadata": {},
   "source": [
    "#### Plot Sigmoid Function"
   ]
  },
  {
   "cell_type": "code",
   "execution_count": 6,
   "metadata": {},
   "outputs": [
    {
     "data": {
      "image/png": "[encoded data removed]",
      "text/plain": [
       "<matplotlib.figure.Figure at 0x8c78198>"
      ]
     },
     "metadata": {},
     "output_type": "display_data"
    }
   ],
   "source": [
    "xxx = numpy.arange(-8,8,0.1)\n",
    "plt.plot(xxx,sigmoid_function(xxx))\n",
    "plt.grid()"
   ]
  },
  {
   "cell_type": "markdown",
   "metadata": {
    "collapsed": true
   },
   "source": [
    "#### Implementation\n",
    "\n",
    "[numpy.dot](https://docs.scipy.org/doc/numpy/reference/generated/numpy.dot.html#numpy-dot)\n",
    " \n",
    "[numpy.ndarrey.T](https://docs.scipy.org/doc/numpy/reference/generated/numpy.ndarray.T.html#numpy-ndarray-t)\n",
    "\n",
    "[numpy.sum](https://docs.scipy.org/doc/numpy/reference/generated/numpy.sum.html#numpy-sum)"
   ]
  },
  {
   "cell_type": "code",
   "execution_count": 7,
   "metadata": {
    "collapsed": true
   },
   "outputs": [],
   "source": [
    "def hypothesisFunc(X, theta):\n",
    "    return sigmoid_function(numpy.dot(X,theta))"
   ]
  },
  {
   "cell_type": "code",
   "execution_count": 8,
   "metadata": {
    "collapsed": true
   },
   "outputs": [],
   "source": [
    "def calCost(theta, X, y):\n",
    "    t1 = numpy.dot(-y.T, numpy.log(hypothesisFunc(X, theta)))\n",
    "    t2 = numpy.dot((1-y).T, numpy.log(1-hypothesisFunc(X, theta)))\n",
    "    m = y.size\n",
    "    return float((t1-t2)/m)"
   ]
  },
  {
   "cell_type": "code",
   "execution_count": 9,
   "metadata": {},
   "outputs": [
    {
     "data": {
      "text/plain": [
       "0.6931471805599452"
      ]
     },
     "execution_count": 9,
     "metadata": {},
     "output_type": "execute_result"
    }
   ],
   "source": [
    "theta_init = numpy.array([[0],[0],[0]])\n",
    "X = numpy.insert(x, 0, 1, axis=1)\n",
    "\n",
    "calCost(theta_init, X, y)"
   ]
  },
  {
   "cell_type": "code",
   "execution_count": 10,
   "metadata": {
    "collapsed": true
   },
   "outputs": [],
   "source": [
    "alpha = 0.01"
   ]
  },
  {
   "cell_type": "code",
   "execution_count": 11,
   "metadata": {
    "collapsed": true
   },
   "outputs": [],
   "source": [
    "def nextTheta(thisTheta, X, y):\n",
    "    m = y.size\n",
    "    nextThetaList = []\n",
    "    for j in range(thisTheta.size):\n",
    "        nextThetaList.append(float(thisTheta[j])-alpha/m*float(numpy.dot((hypothesisFunc(X, thisTheta) - y).T, X[:,j])))\n",
    "    return numpy.array([nextThetaList]).T"
   ]
  },
  {
   "cell_type": "code",
   "execution_count": 12,
   "metadata": {
    "collapsed": true
   },
   "outputs": [],
   "source": [
    "def gradDescent(iteration, initTheta, X, y):\n",
    "    thisTheta = initTheta\n",
    "    for i in range(iteration):\n",
    "        thisTheta = nextTheta(thisTheta, X, y)\n",
    "    return thisTheta"
   ]
  },
  {
   "cell_type": "code",
   "execution_count": 13,
   "metadata": {},
   "outputs": [
    {
     "data": {
      "text/plain": [
       "0.30682849002842216"
      ]
     },
     "execution_count": 13,
     "metadata": {},
     "output_type": "execute_result"
    }
   ],
   "source": [
    "final_theta = gradDescent(200000, theta_init, X, y)\n",
    "calCost(final_theta, X, y)"
   ]
  },
  {
   "cell_type": "code",
   "execution_count": 14,
   "metadata": {},
   "outputs": [
    {
     "data": {
      "text/plain": [
       "<matplotlib.legend.Legend at 0x92e4e48>"
      ]
     },
     "execution_count": 14,
     "metadata": {},
     "output_type": "execute_result"
    },
    {
     "data": {
      "image/png": "[encoded data removed]",
      "text/plain": [
       "<matplotlib.figure.Figure at 0x90417f0>"
      ]
     },
     "metadata": {},
     "output_type": "display_data"
    }
   ],
   "source": [
    "# x2 = (-1/thetheta2)(theta0 + theta1*x1)\n",
    "boundary_x1 = numpy.arange(30, 110, 0.5)\n",
    "boundary_y = (-1/final_theta[2])*(final_theta[0] + final_theta[1]*boundary_x1)\n",
    "plt.figure()\n",
    "plt.plot(boundary_x1, boundary_y, 'k-', label=\"Decision Boundary\")\n",
    "plt.plot(admitted[:,0],admitted[:,1],'bo',label='Admitted')\n",
    "plt.plot(unadmitted[:,0],unadmitted[:,1],'rx',label='Unadmitted')\n",
    "plt.xlabel('Exam 1 score')\n",
    "plt.ylabel('Exam 2 score')\n",
    "plt.legend()"
   ]
  },
  {
   "cell_type": "markdown",
   "metadata": {},
   "source": [
    "#### Prediction"
   ]
  },
  {
   "cell_type": "code",
   "execution_count": 15,
   "metadata": {},
   "outputs": [
    {
     "data": {
      "text/plain": [
       "0.88"
      ]
     },
     "execution_count": 15,
     "metadata": {},
     "output_type": "execute_result"
    }
   ],
   "source": [
    "prediction = hypothesisFunc(X, final_theta) > 0.5\n",
    "ori = (y == 1)\n",
    "\n",
    "predict_correct = (prediction == ori)\n",
    "\n",
    "# fraction of correctly predicted samples in training set\n",
    "numpy.sum(predict_correct)/y.size"
   ]
  },
  {
   "cell_type": "markdown",
   "metadata": {
    "collapsed": true
   },
   "source": [
    "## 2. Regularized Logistic Regression"
   ]
  },
  {
   "cell_type": "code",
   "execution_count": 56,
   "metadata": {
    "collapsed": true
   },
   "outputs": [],
   "source": [
    "xx1, xx2, yy = numpy.loadtxt('ex2data2.txt',delimiter=',',unpack=True)\n",
    "xx = numpy.transpose(numpy.array([xx1,xx2]))\n",
    "yy = numpy.transpose(numpy.array([yy]))"
   ]
  },
  {
   "cell_type": "markdown",
   "metadata": {},
   "source": [
    "### Plot the data"
   ]
  },
  {
   "cell_type": "code",
   "execution_count": 52,
   "metadata": {
    "collapsed": true
   },
   "outputs": [],
   "source": [
    "admitted = []\n",
    "unadmitted = []\n",
    "for i in range(yy.size):\n",
    "    if yy[i] == 1:\n",
    "        admitted.append(xx[i])\n",
    "    else:\n",
    "        unadmitted.append(xx[i])\n",
    "admitted = numpy.array(admitted)\n",
    "unadmitted = numpy.array(unadmitted)"
   ]
  },
  {
   "cell_type": "code",
   "execution_count": 53,
   "metadata": {},
   "outputs": [
    {
     "data": {
      "text/plain": [
       "<matplotlib.legend.Legend at 0x7cf8780>"
      ]
     },
     "execution_count": 53,
     "metadata": {},
     "output_type": "execute_result"
    },
    {
     "data": {
      "image/png": "[encoded data removed]",
      "text/plain": [
       "<matplotlib.figure.Figure at 0x7cc7d30>"
      ]
     },
     "metadata": {},
     "output_type": "display_data"
    }
   ],
   "source": [
    "plt.figure()\n",
    "plt.plot(admitted[:,0],admitted[:,1],'bo',label='Admitted')\n",
    "plt.plot(unadmitted[:,0],unadmitted[:,1],'rx',label='Unadmitted')\n",
    "plt.xlabel('Exam 1 score')\n",
    "plt.ylabel('Exam 2 score')\n",
    "plt.legend()"
   ]
  },
  {
   "cell_type": "markdown",
   "metadata": {},
   "source": [
    "### Feature Map"
   ]
  },
  {
   "cell_type": "code",
   "execution_count": 37,
   "metadata": {},
   "outputs": [],
   "source": [
    "xxx = []\n",
    "for e in range(yy.size):\n",
    "    xxx_temp = []\n",
    "    for i in range(7):\n",
    "        for j in range(7-i):\n",
    "            xxx_temp.append(numpy.power(xx1[e],i) * numpy.power(xx2[e],j))\n",
    "    xxx.append(xxx_temp)\n",
    "    \n",
    "xxx = numpy.array(xxx)"
   ]
  },
  {
   "cell_type": "markdown",
   "metadata": {},
   "source": [
    "### Implement Regularized Logistic Regression"
   ]
  },
  {
   "cell_type": "code",
   "execution_count": 45,
   "metadata": {},
   "outputs": [],
   "source": [
    "def calCostReg(theta, X, y, lambdaa):\n",
    "    return calCost(theta, X, y) - float((lambdaa/2) * numpy.dot(theta[1:].T, theta[1:]))"
   ]
  },
  {
   "cell_type": "code",
   "execution_count": 57,
   "metadata": {},
   "outputs": [
    {
     "data": {
      "text/plain": [
       "0.6931471805599453"
      ]
     },
     "execution_count": 57,
     "metadata": {},
     "output_type": "execute_result"
    }
   ],
   "source": [
    "xx = numpy.insert(xx, 0, 1, axis=1)\n",
    "calCostReg(theta_init, xx, yy, 0)"
   ]
  },
  {
   "cell_type": "code",
   "execution_count": 60,
   "metadata": {},
   "outputs": [],
   "source": [
    "def nextThetaReg(thisTheta, X, y, lambdaa):\n",
    "    m = y.size\n",
    "    nextThetaList = []\n",
    "    for j in range(thisTheta.size):\n",
    "        if j == 0:\n",
    "            nextThetaList.append(float(thisTheta[j])-1/m*float(numpy.dot((hypothesisFunc(X, thisTheta) - y).T, X[:,j])))\n",
    "        else:\n",
    "            nextThetaList.append(float(thisTheta[j])-1/m*float(numpy.dot((hypothesisFunc(X, thisTheta) - y).T, X[:,j])) + lambdaa/m*thisTheta[j])\n",
    "    return numpy.array([nextThetaList]).T"
   ]
  },
  {
   "cell_type": "code",
   "execution_count": 63,
   "metadata": {},
   "outputs": [],
   "source": [
    "initial_theta = numpy.zeros((xxx.shape[1],1))"
   ]
  },
  {
   "cell_type": "code",
   "execution_count": null,
   "metadata": {
    "collapsed": true
   },
   "outputs": [],
   "source": []
  }
 ],
 "metadata": {
  "kernelspec": {
   "display_name": "Python 3",
   "language": "python",
   "name": "python3"
  },
  "language_info": {
   "codemirror_mode": {
    "name": "ipython",
    "version": 3
   },
   "file_extension": ".py",
   "mimetype": "text/x-python",
   "name": "python",
   "nbconvert_exporter": "python",
   "pygments_lexer": "ipython3",
   "version": "3.6.3"
  }
 },
 "nbformat": 4,
 "nbformat_minor": 2
}
